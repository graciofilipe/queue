{
 "cells": [
  {
   "cell_type": "markdown",
   "metadata": {},
   "source": [
    "<p><font size=\"4\">  MOOC: Understanding queues</font></p>\n",
    "<p><font size=\"4\">  Python lab\n",
    "</p></br>\n",
    "<p><font size=\"4\">  Week V: Multi server systems </p></br>\n",
    "\n",
    "----------------------------"
   ]
  },
  {
   "cell_type": "markdown",
   "metadata": {},
   "source": [
    "This lab focusses on multiserver queues. Numerical computations are peformed that illustrate the results obtained in the problems that we just studied.\n",
    "\n",
    "---------"
   ]
  },
  {
   "cell_type": "markdown",
   "metadata": {},
   "source": [
    "**1)** Let us consider an M/M/C/C queue with offered load $\\rho$. Complete the code of function **p(rho,C)** that returns the vector of length $C+1$ that represents the stationary distribution of an M/M/C/C queue with $C$ servers "
   ]
  },
  {
   "cell_type": "code",
   "execution_count": 35,
   "metadata": {
    "collapsed": true
   },
   "outputs": [],
   "source": [
    "%matplotlib inline  \n",
    "import matplotlib\n",
    "from matplotlib import *\n",
    "from pylab import *    \n",
    "import numpy as np\n",
    "import scipy as sp\n",
    "import math"
   ]
  },
  {
   "cell_type": "code",
   "execution_count": 29,
   "metadata": {},
   "outputs": [
    {
     "name": "stdout",
     "output_type": "stream",
     "text": [
      "1.0\n"
     ]
    }
   ],
   "source": [
    "# Calculation of the stationary distribution of an M/M/C/C\n",
    "def p(rho,C):\n",
    "    pi_   = np.ones(C+1)\n",
    "    for k in range(C):\n",
    "        #####################\n",
    "        # supply the expression of pi_[k+1]\n",
    "        # in terms of pi_[k]\n",
    "        pi_[k+1] = (1/(k+1))*pi_[k]\n",
    "        #####################\n",
    "    pi_ = pi_/sum(pi_)\n",
    "    return pi_\n",
    "\n",
    "#----------\n",
    "V1 = p(1,4)[0]\n",
    "print(np.sum(p(1,4)))"
   ]
  },
  {
   "cell_type": "markdown",
   "metadata": {},
   "source": [
    "**2)** Complete the code of the function **Eb(rho,C)** that implements \n",
    "the computation of the loss probability (Erlang B formula). Check that for the problem of the videoconference server where $\\lambda=1$, $\\mu=1$ and $C=4$ you find the same result as in the problem. "
   ]
  },
  {
   "cell_type": "code",
   "execution_count": 30,
   "metadata": {},
   "outputs": [],
   "source": [
    "#############\n",
    "# Complete the code of Erlang B formula \n",
    "def Eb(rho,C):\n",
    "    numerator = (rho**C)/math.factorial(C)\n",
    "    denominator = np.sum([(C**i)/math.factorial(i) for i in range(C)])\n",
    "    p_block = numerator/denominator\n",
    "    return(p_block)\n",
    "#############\n",
    "lambda_, mu, C = 1., 1., 4\n",
    "V2 = Eb(lambda_/mu,C)"
   ]
  },
  {
   "cell_type": "markdown",
   "metadata": {},
   "source": [
    "**3)** Using the curves below that represent the loss probability $E_b$ vs the offered load, give the minimum values of $C$ for which the loss probability is lower than 3% and .5% respectively for $\\rho=1$Erlang. Note that you can change the value of $C$ in the figure below by moving around the slider on top of it."
   ]
  },
  {
   "cell_type": "code",
   "execution_count": 31,
   "metadata": {},
   "outputs": [],
   "source": [
    "# Importing ipywidgets for interactive plotting\n",
    "from ipywidgets import *"
   ]
  },
  {
   "cell_type": "code",
   "execution_count": 38,
   "metadata": {},
   "outputs": [
    {
     "ename": "NameError",
     "evalue": "name 'plot' is not defined",
     "output_type": "error",
     "traceback": [
      "\u001b[1;31m---------------------------------------------------------------------------\u001b[0m",
      "\u001b[1;31mNameError\u001b[0m                                 Traceback (most recent call last)",
      "\u001b[1;32m<ipython-input-38-099142199c75>\u001b[0m in \u001b[0;36mplt_Eb\u001b[1;34m(C)\u001b[0m\n\u001b[0;32m      8\u001b[0m     \u001b[0mrho\u001b[0m     \u001b[1;33m=\u001b[0m \u001b[0mnp\u001b[0m\u001b[1;33m.\u001b[0m\u001b[0mlinspace\u001b[0m\u001b[1;33m(\u001b[0m\u001b[1;36m0\u001b[0m\u001b[1;33m,\u001b[0m\u001b[0mrho_max\u001b[0m\u001b[1;33m,\u001b[0m\u001b[1;36m100\u001b[0m\u001b[1;33m)\u001b[0m\u001b[1;33m\u001b[0m\u001b[0m\n\u001b[0;32m      9\u001b[0m \u001b[1;33m\u001b[0m\u001b[0m\n\u001b[1;32m---> 10\u001b[1;33m     \u001b[0mplot\u001b[0m\u001b[1;33m.\u001b[0m\u001b[0mplot\u001b[0m\u001b[1;33m(\u001b[0m\u001b[0mrho\u001b[0m\u001b[1;33m,\u001b[0m \u001b[1;33m[\u001b[0m\u001b[1;36m100\u001b[0m\u001b[1;33m*\u001b[0m\u001b[0mEb\u001b[0m\u001b[1;33m(\u001b[0m\u001b[0mr\u001b[0m\u001b[1;33m,\u001b[0m\u001b[0mC\u001b[0m\u001b[1;33m)\u001b[0m \u001b[1;32mfor\u001b[0m \u001b[0mr\u001b[0m \u001b[1;32min\u001b[0m \u001b[0mrho\u001b[0m\u001b[1;33m]\u001b[0m\u001b[1;33m)\u001b[0m\u001b[1;33m\u001b[0m\u001b[0m\n\u001b[0m\u001b[0;32m     11\u001b[0m     \u001b[0mgrid\u001b[0m\u001b[1;33m(\u001b[0m\u001b[1;34m'on'\u001b[0m\u001b[1;33m)\u001b[0m\u001b[1;33m\u001b[0m\u001b[0m\n\u001b[0;32m     12\u001b[0m     \u001b[0mxlabel\u001b[0m\u001b[1;33m(\u001b[0m\u001b[1;34mr\"Offered Load $\\rho$\"\u001b[0m\u001b[1;33m,\u001b[0m \u001b[0mfontsize\u001b[0m\u001b[1;33m=\u001b[0m\u001b[1;36m20\u001b[0m\u001b[1;33m)\u001b[0m\u001b[1;33m\u001b[0m\u001b[0m\n",
      "\u001b[1;31mNameError\u001b[0m: name 'plot' is not defined"
     ]
    }
   ],
   "source": [
    "rcParams['figure.figsize'] = 10,7\n",
    "def plt_Eb(C):\n",
    "    # plot of rho -->Eb(rho,c)\n",
    "    C_max   = 20\n",
    "    rho_max = 4\n",
    "    ymin    = 1.0e-7\n",
    "    ymax    = 60\n",
    "    rho     = np.linspace(0,rho_max,100)\n",
    "\n",
    "    plot.plot(rho, [100*Eb(r,C) for r in rho])\n",
    "    grid('on')\n",
    "    xlabel(r\"Offered Load $\\rho$\", fontsize=20)\n",
    "    ylabel(r\"$E_B (\\%)$\", fontsize=20)\n",
    "    title(\"Loss probability\", fontsize=20)\n",
    "    def point_loss(x,y,color,label):\n",
    "        # point rho=x and loss_probability=y%\n",
    "        semilogy(x,y,'o',color=color,label=label)\n",
    "        semilogy((0,rho_max),(y,y),'r',linewidth=.4)\n",
    "    semilogy((1,1),(ymin,ymax),'r',linewidth=.4)     \n",
    "    # point of loss probability 1%\n",
    "    point_loss(1,3,color='b',label=r'$E_B=3\\%$')\n",
    "    point_loss(1,.5,color='g',label=r'$E_B=0.5\\%$')\n",
    "    legend(fontsize=20)\n",
    "    axis(xmin=0,xmax=rho_max,ymin=ymin,ymax=ymax)\n",
    "    show()\n",
    "\n",
    "# interactive plot of rho -->Eb(rho,c) for varying c\n",
    "interact(plt_Eb, C=(1,10,1))\n",
    "\n",
    "#######################\n",
    "# supply the minimum values of C such that Eb<3% and Eb<.5%\n",
    "V3 = ...   # min value of C such that Eb(1,C)<3%\n",
    "V4 = ...   # min value of C such that Eb(1,C)<.5%\n",
    "#######################"
   ]
  },
  {
   "cell_type": "markdown",
   "metadata": {},
   "source": [
    "**4)** Now, we are going to extend the results of the video conferencing system problem to the case where there can be subscribers and occasional clients and $C\\geq 1$.\n",
    "\n",
    "For instance, in the case $C=3$ states of the system are in the form $(a,b)$ with $0\\leq a,b\\leq 3$.\n",
    "\n",
    "<img src=\"video_conf_C=3.png\" height=500, width=700>\n",
    "\n",
    "In this case, putting balance equations in the form $\\pi {\\bf Q}=0$ yields a generator matrix ${\\bf Q}$ in the form\n",
    "\n",
    "$$\n",
    "{\\bf Q} =\\\\\n",
    "\\begin{pmatrix}\n",
    "-(\\lambda+\\lambda') &\\lambda'&0&0&\\lambda&0&0&0&0&0\\\\\n",
    "\\mu&-(\\lambda+\\lambda'+\\mu)&\\lambda'&0&0&\\lambda&0&0&0&0\\\\\n",
    "0&2\\mu&-(\\lambda+\\lambda'+2\\mu)&\\lambda'&0&0&\\lambda&0&0&0\\\\\n",
    "0&0&3\\mu&-(\\lambda+3\\mu)&0&0&\\lambda&0&0&0\\\\\n",
    "\\mu&0&0&0&-(\\lambda+\\lambda'+\\mu)&\\lambda'&0&\\lambda&0&0\\\\\n",
    "0&\\mu&0&0&\\mu&-(\\lambda+\\lambda'+2\\mu)&\\lambda'&0&\\lambda&0\\\\\n",
    "0&0&\\mu&0&0&2\\mu&-(\\lambda+3\\mu)&0&\\lambda&0\\\\\n",
    "0&0&0&0&2\\mu&0&0&-(\\lambda+\\lambda'+2\\mu)&\\lambda'&\\lambda\\\\\n",
    "0&0&0&0&0&2\\mu&0&\\mu&-(\\lambda+3\\mu)&\\lambda\\\\\n",
    "0&0&0&0&0&0&0&3\\mu&0&-3\\mu\\\\\n",
    "\\end{pmatrix}\n",
    "$$\n",
    "\n",
    "where $[{\\bf Q}]_{ij}$ is the entry $(i,j)$ of ${\\bf Q}$ that denotes transition intensity from state $(a,b)$ to state $(c,d)$ with $i=(a(C+1)-a(a-1)/2+b$ and $j=c(C+1)-c(c-1)/2+d$ for $i\\neq j$ and $[{\\bf Q}]_{ii}=-\\sum_{j\\neq i}[{\\bf Q}]_{ij}$. The general implementation of matrix ${\\bf Q}$ is given in function **matQ(lambda_s,mu,lambda_o,C)** below where **lambda_s** and **lambda_o** stand for the intensity of arrivals  of subscribers ($\\lambda$) and occasional customers ($\\lambda'$). Complete the code of the function and check that for $C=3$ we find the expression given above here for ${\\bf Q}$. "
   ]
  },
  {
   "cell_type": "code",
   "execution_count": 41,
   "metadata": {},
   "outputs": [
    {
     "data": {
      "text/plain": [
       "array([[-3.,  2.,  0.,  0.,  1.,  0.,  0.,  0.,  0.,  0.],\n",
       "       [ 1., -4.,  2.,  0.,  0.,  1.,  0.,  0.,  0.,  0.],\n",
       "       [ 0.,  2., -5.,  2.,  0.,  0.,  1.,  0.,  0.,  0.],\n",
       "       [ 0.,  0.,  3., -4.,  0.,  0.,  1.,  0.,  0.,  0.],\n",
       "       [ 1.,  0.,  0.,  0., -4.,  2.,  0.,  1.,  0.,  0.],\n",
       "       [ 0.,  1.,  0.,  0.,  1., -5.,  2.,  0.,  1.,  0.],\n",
       "       [ 0.,  0.,  1.,  0.,  0.,  2., -4.,  0.,  1.,  0.],\n",
       "       [ 0.,  0.,  0.,  0.,  2.,  0.,  0., -5.,  2.,  1.],\n",
       "       [ 0.,  0.,  0.,  0.,  0.,  2.,  0.,  1., -4.,  1.],\n",
       "       [ 0.,  0.,  0.,  0.,  0.,  0.,  0.,  3.,  0., -3.]])"
      ]
     },
     "execution_count": 41,
     "metadata": {},
     "output_type": "execute_result"
    }
   ],
   "source": [
    "def ab_to_i(a,b):\n",
    "    # index conversion (a,b)-->i\n",
    "    # (a,b) stands for the state (N,N') \n",
    "    # and i for the corresponding line or column index of Q\n",
    "    # note that matrix and state pairs indexing begin at 0\n",
    "    return int(a*(C+1)-a*(a-1)/2 + b)\n",
    "\n",
    "def matQ(lambda_s,mu,lambda_o,C):\n",
    "    # building Q\n",
    "    s = int((C+1)**2-C*(C+1)/2)\n",
    "    Q = np.zeros(shape=(s,s))\n",
    "    for a in range(C+1):       # loop over N\n",
    "        for b in range(C+1-a): # loop over N'\n",
    "            i = ab_to_i(a,b)   # corresponding index in the matrix Q\n",
    "            if b>0: # transition (a,b)-->(a,b-1)\n",
    "                Q[i,ab_to_i(a,b-1)]     = b*mu \n",
    "            if a>0: # transition (a,b)-->(a-1,b)\n",
    "                Q[i,ab_to_i(a-1,b)]     = a*mu \n",
    "            if b<C-a: # transition (a,b)-->(a,b+1)\n",
    "                Q[i,ab_to_i(a,b+1)]     = lambda_o \n",
    "                if i<s-1: # transition (a,b)-->(a+1,b)\n",
    "                    Q[i,ab_to_i(a+1,b)] = lambda_s \n",
    "            elif i<s-1: # transition (a,C-a)-->(a+1,C-a-1)\n",
    "                Q[i,ab_to_i(a+1,b-1)]   = lambda_s      \n",
    "            ############################\n",
    "            # Supply the value of Q[i,i]\n",
    "            Q[i,i] = -np.sum(Q[i,:]) # setting constraint sum(Q[i,:])=0\n",
    "            ############################\n",
    "    return Q\n",
    "\n",
    "lambda_s,mu,lambda_o,C = 1,1,2,3\n",
    "matQ(lambda_s,mu,lambda_o,C)"
   ]
  },
  {
   "cell_type": "markdown",
   "metadata": {},
   "source": [
    "**5)** For $C=4$, let us compute the stationary distribution $\\pi_Q$ of the system from equations $\\pi_Q{\\bf Q}=0$ and $\\sum_i \\pi_Q[i]=1$ (two techniques are provided below). From $\\pi_Q$, compute the blocking probability for $N$ and for $N'$."
   ]
  },
  {
   "cell_type": "code",
   "execution_count": 42,
   "metadata": {
    "collapsed": true
   },
   "outputs": [],
   "source": [
    "# to solve overdetermined systems of equations Ax=b\n",
    "# https://docs.scipy.org/doc/numpy/reference/generated/numpy.linalg.lstsq.html#numpy.linalg.lstsq\n",
    "from scipy.linalg import lstsq"
   ]
  },
  {
   "cell_type": "code",
   "execution_count": 46,
   "metadata": {},
   "outputs": [
    {
     "ename": "TypeError",
     "evalue": "a float is required",
     "output_type": "error",
     "traceback": [
      "\u001b[1;31m---------------------------------------------------------------------------\u001b[0m",
      "\u001b[1;31mTypeError\u001b[0m                                 Traceback (most recent call last)",
      "\u001b[1;32m<ipython-input-46-ca80d89fab39>\u001b[0m in \u001b[0;36m<module>\u001b[1;34m()\u001b[0m\n\u001b[0;32m     19\u001b[0m \u001b[1;31m##########################\u001b[0m\u001b[1;33m\u001b[0m\u001b[1;33m\u001b[0m\u001b[0m\n\u001b[0;32m     20\u001b[0m \u001b[0mV5\u001b[0m\u001b[1;33m,\u001b[0m\u001b[0mV6\u001b[0m \u001b[1;33m=\u001b[0m \u001b[0mblocking\u001b[0m\u001b[1;33m(\u001b[0m\u001b[0mpi_Q\u001b[0m\u001b[1;33m,\u001b[0m\u001b[0mC\u001b[0m\u001b[1;33m)\u001b[0m\u001b[1;33m\u001b[0m\u001b[0m\n\u001b[1;32m---> 21\u001b[1;33m \u001b[0mprint\u001b[0m\u001b[1;33m(\u001b[0m\u001b[1;34m\"The blocking probability for N  is %.3f\"\u001b[0m \u001b[1;33m%\u001b[0m\u001b[0mV5\u001b[0m\u001b[1;33m)\u001b[0m\u001b[1;33m\u001b[0m\u001b[0m\n\u001b[0m\u001b[0;32m     22\u001b[0m print('Erlang B formula yields Eb(',lambda_s/mu,',',C,\n\u001b[0;32m     23\u001b[0m                           ') = %.3f' %Eb(lambda_s/mu,C))\n",
      "\u001b[1;31mTypeError\u001b[0m: a float is required"
     ]
    }
   ],
   "source": [
    "#set_printoptions(precision=4)\n",
    "lambda_s,mu,lambda_o,C = 1,1,2,4\n",
    "A     = matQ(lambda_s,mu,lambda_o,C).T\n",
    "m,n   = A.shape\n",
    "A     = np.vstack((A,np.ones(n))) # adding constraint sum(pi[i])=1\n",
    "b     = np.zeros(m+1)\n",
    "b[-1] = 1\n",
    "# solves equations pi.Q=0 and normalization condition\n",
    "pi_Q  = lstsq(A,b)[0] \n",
    "##########################\n",
    "# supply the blocking probability for for suscribers \n",
    "# and occasional users\n",
    "def blocking(pi_Q,C):\n",
    "    #returns blocking probability for suscribers (P_s)\n",
    "    # and occasional users (P_o)\n",
    "    P_s = \n",
    "    P_o = \n",
    "    return P_s, P_o\n",
    "##########################\n",
    "V5,V6 = blocking(pi_Q,C)\n",
    "print(\"The blocking probability for N  is %.3f\" %V5)\n",
    "print('Erlang B formula yields Eb(',lambda_s/mu,',',C,\n",
    "                          ') = %.3f' %Eb(lambda_s/mu,C))\n",
    "print(\"The blocking probability for N' is %.3f\" %V6)"
   ]
  },
  {
   "cell_type": "markdown",
   "metadata": {},
   "source": [
    "Until now, we have considered the case $C=4$. Le t us show the influence of $C$ on blocking probabilities for subscribers and occasional customers. As expected blocking probabilities for subscribers remains lower than that of  occasional customers and both blocking probabilities decrease to 0 as $C$ increases. "
   ]
  },
  {
   "cell_type": "code",
   "execution_count": null,
   "metadata": {},
   "outputs": [],
   "source": [
    "Cmax = 10\n",
    "rcParams[\"figure.figsize\"] = 12,9\n",
    "for C in range(1,Cmax+1):\n",
    "    A     = matQ(lambda_s,mu,lambda_o,C).T\n",
    "    m,n   = A.shape\n",
    "    A     = vstack((A,ones(n))) # adding constraint sum(pi[i])=1\n",
    "    b     = zeros(m+1)\n",
    "    b[-1] = 1\n",
    "    # solves equations pi.Q=0 and normalization condition\n",
    "    pi_Q  = lstsq(A,b)[0] \n",
    "    P_s,P_o = blocking(pi_Q,C)\n",
    "    semilogy(C,P_s,'or')\n",
    "    semilogy(C,P_o,'og')\n",
    "semilogy(C,P_s,'or',label='subscribers')\n",
    "semilogy(C,P_o,'og',label='occasional')\n",
    "grid('on')\n",
    "legend(fontsize=20)\n",
    "xlabel('C',fontsize=20)\n",
    "ylabel('Blocking probability',fontsize=20)"
   ]
  },
  {
   "cell_type": "markdown",
   "metadata": {},
   "source": [
    "# Conclusion\n",
    "\n",
    "In this lab, we have confirmed the interest of using several servers in queuing systems. At the end of this week you probably have become quite familiar with tweacking the code to deal with a few standard or more advanced queuing systems. \n",
    "\n",
    "Here we are! We hope that you found these labs helpful for understanding queues and possibly set up your own simulation experiments of queueing systems."
   ]
  },
  {
   "cell_type": "markdown",
   "metadata": {},
   "source": [
    "# Your answers for the exercise"
   ]
  },
  {
   "cell_type": "code",
   "execution_count": null,
   "metadata": {},
   "outputs": [],
   "source": [
    "print(\"---------------------------\\n\"\n",
    "      +\"RESULTS SUPPLIED FOR LAB 5:\\n\"\n",
    "      +\"---------------------------\")\n",
    "results = (\"V\"+str(k) for k in range(1,7))\n",
    "for x in results:\n",
    "    try:\n",
    "        print(x+\" = {0:.3f}\".format(eval(x)))\n",
    "    except:\n",
    "        print(x+\": variable is undefined\")   "
   ]
  }
 ],
 "metadata": {
  "kernelspec": {
   "display_name": "Python 3",
   "language": "python",
   "name": "python3"
  },
  "language_info": {
   "codemirror_mode": {
    "name": "ipython",
    "version": 3
   },
   "file_extension": ".py",
   "mimetype": "text/x-python",
   "name": "python",
   "nbconvert_exporter": "python",
   "pygments_lexer": "ipython3",
   "version": "3.5.4"
  }
 },
 "nbformat": 4,
 "nbformat_minor": 1
}
